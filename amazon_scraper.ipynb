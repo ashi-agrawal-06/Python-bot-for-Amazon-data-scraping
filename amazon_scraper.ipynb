{
  "nbformat": 4,
  "nbformat_minor": 0,
  "metadata": {
    "colab": {
      "name": "amazon_scraper.ipynb",
      "provenance": [],
      "authorship_tag": "ABX9TyOIH33syS5Avf4Roz/HGjBC",
      "include_colab_link": true
    },
    "kernelspec": {
      "name": "python3",
      "display_name": "Python 3"
    }
  },
  "cells": [
    {
      "cell_type": "markdown",
      "metadata": {
        "id": "view-in-github",
        "colab_type": "text"
      },
      "source": [
        "<a href=\"https://colab.research.google.com/github/ashi-agrawal-06/Python-bot-for-Amazon-data-scraping/blob/main/amazon_scraper.ipynb\" target=\"_parent\"><img src=\"https://colab.research.google.com/assets/colab-badge.svg\" alt=\"Open In Colab\"/></a>"
      ]
    },
    {
      "cell_type": "code",
      "metadata": {
        "id": "wxCJ6EU_Gj20"
      },
      "source": [
        "import pandas as pd\n",
        "import json\n",
        "import requests\n",
        "import numpy as np\n",
        "from bs4 import BeautifulSoup as bp\n",
        "import time"
      ],
      "execution_count": null,
      "outputs": []
    },
    {
      "cell_type": "code",
      "metadata": {
        "id": "Yi3D6E0FGlAE"
      },
      "source": [
        "h={'User-Agent': 'Mozilla/5.0 (Windows NT 10.0; Win64; x64) AppleWebKit/537.36 (KHTML, like Gecko) Chrome/88.0.4324.182 Safari/537.36'}"
      ],
      "execution_count": null,
      "outputs": []
    },
    {
      "cell_type": "code",
      "metadata": {
        "id": "jEplGOn1Gm9R"
      },
      "source": [
        "url='https://www.amazon.in/s?k=mobiles&page='"
      ],
      "execution_count": null,
      "outputs": []
    },
    {
      "cell_type": "code",
      "metadata": {
        "id": "Q-8LdzL8GplJ"
      },
      "source": [
        "def parse_phone_page(doc,h):\n",
        "  dic=[]\n",
        "  for i in doc.find_all('div',class_='s-result-item s-asin sg-col-0-of-12 sg-col-16-of-20 sg-col sg-col-12-of-16'):\n",
        "    link=\"https://www.amazon.in\"+i.find('a',class_='a-link-normal a-text-normal')['href']\n",
        "    sp=parse_content(link,h)\n",
        "    dic.append(sp)\n",
        "  for i in doc.find_all('div',class_='s-result-item s-asin sg-col-0-of-12 sg-col-16-of-20 AdHolder sg-col sg-col-12-of-16'):\n",
        "    link=\"https://www.amazon.in\"+i.find('a',class_='a-link-normal a-text-normal')['href']\n",
        "    sp=parse_content(link,h)\n",
        "    dic.append(sp)\n",
        "  return dic\n",
        "\n",
        "\n",
        "\n",
        "\n",
        "\n",
        "def parse_content(link,h):\n",
        "  re=requests.get(link,headers=h)\n",
        "  doc1=bp(re.text,'lxml')\n",
        "  try:\n",
        "   url2=\"https://www.amazon.in\"+doc1.find('a',attrs={'data-hook':'see-all-reviews-link-foot'})['href']+\"&pageNumber=\"\n",
        "   rev=extract_reviews(url2,h)\n",
        "  except Exception as ee:\n",
        "    rev= None\n",
        "    #print(link,'rev')\n",
        "  spec={}\n",
        "  t=doc1.find('table',attrs={'id':'productDetails_techSpec_section_1'})\n",
        "  for i in t.find_all('tr'):\n",
        "    sp=i.find('th').text.strip()\n",
        "    val=i.find('td').text.strip()\n",
        "    spec.update({sp:val})\n",
        "  q=doc1.find('table',attrs={'id':'productDetails_detailBullets_sections1'})\n",
        "  for i in q.find_all('tr'):\n",
        "    sp=i.find('th').text.strip()\n",
        "    val=i.find('td').text.strip()\n",
        "    spec.update({sp:val})\n",
        "  \n",
        "  for i in doc1.find_all('th',class_='attribute-heading'):\n",
        "    try:\n",
        "      spec.update({i.find('span',class_='a-size-base').text:i.find_next_sibling('td').text.strip()})\n",
        "    except Exception as e3:\n",
        "      print(link)\n",
        "      continue\n",
        "  name=doc1.find('span',attrs={'id':'productTitle'}).text.strip()\n",
        "  try:\n",
        "    pr=doc1.find('td',class_='a-span12')\n",
        "    if pr:\n",
        "      price=pr.find('span').text.split('₹')[1].strip()\n",
        "    else:\n",
        "      price=doc1.find('span',class_='a-size-base a-color-price').text.split('₹')[1].strip()\n",
        "    \n",
        "  except Exception as e:\n",
        "    print(link)\n",
        "    price= None\n",
        "  try:\n",
        "    stars=doc1.find('span',class_='a-icon-alt').text.split(' ')[0]\n",
        "  except Exception as e1:\n",
        "    stars= None\n",
        "  spec.update({'Name':name,'Detailed Reviews':rev,'Price':price,'Rating': stars})\n",
        "  return spec\n",
        "\n",
        "\n",
        "\n",
        "\n",
        "def extract_reviews(url2_c,h):  \n",
        "  reviews=[]\n",
        "  for i in range(1,6):\n",
        "    req1=requests.get(f'{url2_c}{i}',headers=h)\n",
        "    doc3=bp(req1.text)\n",
        "    for i in doc3.find_all('div',class_='a-section review aok-relative'):\n",
        "        review=i.find('span',class_='a-size-base review-text review-text-content').text.strip()\n",
        "        reviews.append(review)\n",
        "  return reviews\n"
      ],
      "execution_count": null,
      "outputs": []
    },
    {
      "cell_type": "code",
      "metadata": {
        "id": "nbWj4sZiGIJo"
      },
      "source": [
        "df=pd.DataFrame()\n",
        "for i in range(1,2):\n",
        "  url1=f'{url}{i}'\n",
        "  r=requests.get(url1,headers=h)\n",
        "  doc=bp(r.text,'lxml')\n",
        "  sp=parse_phone_page(doc,h)\n",
        "  dt=pd.DataFrame(sp)\n",
        "  df=df.append(dt,True)\n",
        "df.to_csv('Amazon_mobiles.csv')"
      ],
      "execution_count": null,
      "outputs": []
    },
    {
      "cell_type": "code",
      "metadata": {
        "id": "GWlycYkT1MWu"
      },
      "source": [
        "df1=df[list(set(df.columns))]"
      ],
      "execution_count": null,
      "outputs": []
    },
    {
      "cell_type": "code",
      "metadata": {
        "id": "o5KmboMg3-FO"
      },
      "source": [
        "df1 = df.loc[:,~df.columns.duplicated()]"
      ],
      "execution_count": null,
      "outputs": []
    },
    {
      "cell_type": "code",
      "metadata": {
        "colab": {
          "base_uri": "https://localhost:8080/"
        },
        "id": "ZOuALkaK3cIv",
        "outputId": "bf382a1d-c1ce-40f8-c04d-6e4f33d844e3"
      },
      "source": [
        "len(df1.columns)"
      ],
      "execution_count": null,
      "outputs": [
        {
          "output_type": "execute_result",
          "data": {
            "text/plain": [
              "53"
            ]
          },
          "metadata": {
            "tags": []
          },
          "execution_count": 17
        }
      ]
    },
    {
      "cell_type": "code",
      "metadata": {
        "colab": {
          "base_uri": "https://localhost:8080/"
        },
        "id": "3mewtwuW4Z3u",
        "outputId": "98e6c8c0-9da8-427e-f3b1-cfba8f165dba"
      },
      "source": [
        "df1.columns"
      ],
      "execution_count": null,
      "outputs": [
        {
          "output_type": "execute_result",
          "data": {
            "text/plain": [
              "Index(['OS', 'RAM', 'Product Dimensions', 'Batteries', 'Item model number',\n",
              "       'Wireless communication technologies', 'Connectivity technologies',\n",
              "       'Special features', 'Display technology', 'Other display features',\n",
              "       'Device interface - primary', 'Other camera features', 'Form factor',\n",
              "       'Colour', 'Battery Power Rating', 'Whats in the box', 'Manufacturer',\n",
              "       'Item Weight', 'ASIN', 'Customer Reviews', 'Best Sellers Rank',\n",
              "       'Date First Available', 'Item Dimensions LxWxH', 'Generic Name',\n",
              "       'Rear Camera Lens 1', 'Rear Camera Lens 2', 'Screen Size',\n",
              "       'Screen Type', 'Battery Power (In mAH)', 'Inbuilt Storage (in GB)',\n",
              "       'Expandable Storage', 'Processor Brand', 'Operating System',\n",
              "       'Warranty Details', 'Battery type', 'Processor Speed',\n",
              "       'What's in the box', 'Additional Features', 'Item Dimensions', 'Name',\n",
              "       'Detailed Reviews', 'Price', 'Rating', 'Country of Origin',\n",
              "       'Resolution', 'Phone Talk Time', 'Phone Standby Time (with data)',\n",
              "       'Net Quantity', 'Imported By', 'Packer', 'Importer', 'Audio Jack',\n",
              "       'Package Dimensions'],\n",
              "      dtype='object')"
            ]
          },
          "metadata": {
            "tags": []
          },
          "execution_count": 19
        }
      ]
    },
    {
      "cell_type": "code",
      "metadata": {
        "colab": {
          "base_uri": "https://localhost:8080/"
        },
        "id": "gp6qnv8B4WTL",
        "outputId": "0f703b73-cfb4-49cb-e5ca-4af51a0405c2"
      },
      "source": [
        "len(set(df1.columns))"
      ],
      "execution_count": null,
      "outputs": [
        {
          "output_type": "execute_result",
          "data": {
            "text/plain": [
              "53"
            ]
          },
          "metadata": {
            "tags": []
          },
          "execution_count": 18
        }
      ]
    },
    {
      "cell_type": "code",
      "metadata": {
        "colab": {
          "base_uri": "https://localhost:8080/"
        },
        "id": "h_x-Ssrf3i7t",
        "outputId": "5e398766-bd0b-4392-8ad2-d47626cfc9f7"
      },
      "source": [
        "df.info()"
      ],
      "execution_count": null,
      "outputs": [
        {
          "output_type": "stream",
          "text": [
            "<class 'pandas.core.frame.DataFrame'>\n",
            "RangeIndex: 16 entries, 0 to 15\n",
            "Data columns (total 53 columns):\n",
            " #   Column                               Non-Null Count  Dtype \n",
            "---  ------                               --------------  ----- \n",
            " 0   OS                                   16 non-null     object\n",
            " 1   RAM                                  16 non-null     object\n",
            " 2   Product Dimensions                   15 non-null     object\n",
            " 3   Batteries                            14 non-null     object\n",
            " 4   Item model number                    16 non-null     object\n",
            " 5   Wireless communication technologies  15 non-null     object\n",
            " 6   Connectivity technologies            16 non-null     object\n",
            " 7   Special features                     16 non-null     object\n",
            " 8   Display technology                   13 non-null     object\n",
            " 9   Other display features               16 non-null     object\n",
            " 10  Device interface - primary           12 non-null     object\n",
            " 11  Other camera features                16 non-null     object\n",
            " 12  Form factor                          16 non-null     object\n",
            " 13  Colour                               16 non-null     object\n",
            " 14  Battery Power Rating                 16 non-null     object\n",
            " 15  Whats in the box                     15 non-null     object\n",
            " 16  Manufacturer                         16 non-null     object\n",
            " 17  Item Weight                          16 non-null     object\n",
            " 18  ASIN                                 16 non-null     object\n",
            " 19  Customer Reviews                     16 non-null     object\n",
            " 20  Best Sellers Rank                    16 non-null     object\n",
            " 21  Date First Available                 16 non-null     object\n",
            " 22  Item Dimensions LxWxH                15 non-null     object\n",
            " 23  Generic Name                         13 non-null     object\n",
            " 24  Rear Camera Lens 1                   16 non-null     object\n",
            " 25  Rear Camera Lens 2                   16 non-null     object\n",
            " 26  Screen Size                          16 non-null     object\n",
            " 27  Screen Type                          14 non-null     object\n",
            " 28  Battery Power (In mAH)               16 non-null     object\n",
            " 29  Inbuilt Storage (in GB)              16 non-null     object\n",
            " 30  Expandable Storage                   16 non-null     object\n",
            " 31  Processor Brand                      15 non-null     object\n",
            " 32  Operating System                     16 non-null     object\n",
            " 33  Warranty Details                     16 non-null     object\n",
            " 34  Battery type                         13 non-null     object\n",
            " 35  Processor Speed                      16 non-null     object\n",
            " 36  What's in the box                    15 non-null     object\n",
            " 37  Additional Features                  16 non-null     object\n",
            " 38  Item Dimensions                      15 non-null     object\n",
            " 39  Name                                 16 non-null     object\n",
            " 40  Detailed Reviews                     16 non-null     object\n",
            " 41  Price                                16 non-null     object\n",
            " 42  Rating                               16 non-null     object\n",
            " 43  Country of Origin                    14 non-null     object\n",
            " 44  Resolution                           10 non-null     object\n",
            " 45  Phone Talk Time                      3 non-null      object\n",
            " 46  Phone Standby Time (with data)       4 non-null      object\n",
            " 47  Net Quantity                         1 non-null      object\n",
            " 48  Imported By                          1 non-null      object\n",
            " 49  Packer                               4 non-null      object\n",
            " 50  Importer                             4 non-null      object\n",
            " 51  Audio Jack                           2 non-null      object\n",
            " 52  Package Dimensions                   1 non-null      object\n",
            "dtypes: object(53)\n",
            "memory usage: 6.8+ KB\n"
          ],
          "name": "stdout"
        }
      ]
    },
    {
      "cell_type": "code",
      "metadata": {
        "id": "CuMr-BpNIGvE"
      },
      "source": [
        ""
      ],
      "execution_count": null,
      "outputs": []
    }
  ]
}